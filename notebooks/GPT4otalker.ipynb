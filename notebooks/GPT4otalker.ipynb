{
 "cells": [
  {
   "cell_type": "code",
   "execution_count": 1,
   "id": "eb487bbb-0890-4d72-ac8e-8a2f6946d3ce",
   "metadata": {
    "jupyter": {
     "outputs_hidden": false,
     "source_hidden": false
    },
    "microsoft": {
     "language": "python",
     "language_group": "synapse_pyspark"
    },
    "nteract": {
     "transient": {
      "deleting": false
     }
    }
   },
   "outputs": [
    {
     "data": {
      "application/vnd.livy.statement-meta+json": {
       "execution_finish_time": null,
       "execution_start_time": null,
       "livy_statement_state": null,
       "normalized_state": "waiting",
       "parent_msg_id": "5b6adc2e-f4c0-4f9a-99cf-4b142ec4e487",
       "queued_time": "2024-11-10T18:35:08.3964012Z",
       "session_id": null,
       "session_start_time": null,
       "spark_pool": null,
       "state": "waiting",
       "statement_id": null,
       "statement_ids": null
      },
      "text/plain": [
       "StatementMeta(, , , Waiting, , Waiting)"
      ]
     },
     "metadata": {},
     "output_type": "display_data"
    }
   ],
   "source": [
    "# %pip install openai==1.12.0\n",
    "# from notebookutils import mssparkutils\n",
    "mssparkutils.session.restartPython()"
   ]
  },
  {
   "cell_type": "code",
   "execution_count": null,
   "id": "3d75c76d-ea37-4bdf-993d-a7dd38c3f07b",
   "metadata": {
    "collapsed": false,
    "jupyter": {
     "outputs_hidden": false,
     "source_hidden": false
    },
    "microsoft": {
     "language": "python",
     "language_group": "synapse_pyspark"
    },
    "nteract": {
     "transient": {
      "deleting": false
     }
    }
   },
   "outputs": [
    {
     "data": {
      "application/vnd.livy.statement-meta+json": {
       "execution_finish_time": null,
       "execution_start_time": null,
       "livy_statement_state": null,
       "normalized_state": "waiting",
       "parent_msg_id": "f846955a-a46d-44c3-ab34-741405c14f63",
       "queued_time": "2024-11-10T18:35:08.3972394Z",
       "session_id": null,
       "session_start_time": null,
       "spark_pool": null,
       "state": "waiting",
       "statement_id": null,
       "statement_ids": null
      },
      "text/plain": [
       "StatementMeta(, , , Waiting, , Waiting)"
      ]
     },
     "metadata": {},
     "output_type": "display_data"
    },
    {
     "name": "stdout",
     "output_type": "stream",
     "text": [
      "Row(taskID=14, userInput='I want a pic of sheep', keyword='sheep', num=5, resolution='1024*1024', sizeChoice='small', State=1)\n"
     ]
    }
   ],
   "source": [
    "########################################################\n",
    "############################ get taskID from environment\n",
    "########################################################\n",
    "df = spark.sql(\"SELECT * FROM InFreGen.task\")\n",
    "display(df)\n",
    "\n",
    "task_row = spark.sql(\"SELECT * FROM InFreGen.task WHERE taskID = {}\".format(taskID)).collect()[0]\n",
    "print(task_row)\n"
   ]
  },
  {
   "cell_type": "code",
   "execution_count": null,
   "id": "1db28cec-69a2-48d6-99fd-5caa34a79cf2",
   "metadata": {
    "microsoft": {
     "language": "python",
     "language_group": "synapse_pyspark"
    }
   },
   "outputs": [],
   "source": [
    "import os\n",
    "from openai import AzureOpenAI\n",
    "import json\n",
    "ENDPOINT = \"https://mango-bush-0a9e12903.5.azurestaticapps.net/api/v1\"\n",
    "API_KEY = \"ADD YOUR KEY HERE\"\n",
    "\n",
    "API_VERSION = \"2024-02-01\"\n",
    "MODEL_NAME = \"gpt-4o\"\n",
    "\n",
    "client = AzureOpenAI(\n",
    "    azure_endpoint=ENDPOINT,\n",
    "    api_key=API_KEY,\n",
    "    api_version=API_VERSION,\n",
    ")\n",
    "\n",
    "user_input = {\n",
    "    \"input\": task_row[\"userInput\"],\n",
    "}\n",
    "\n",
    "\n",
    "MESSAGES = [\n",
    "    {\"role\": \"system\", \"content\": \"You are a helpful assistant for image searching.\"},\n",
    "    {\"role\": \"user\", \"content\": \"Generate a json file that includes the following details:\"},\n",
    "    {\"role\": \"assistant\", \"content\": \"Please provide the necessary details for the json output.\"},\n",
    "    {\n",
    "        \"role\": \"user\",\n",
    "        \"content\": f\"Keywords: Based on the user's input: {user_input['input']}, generate diverse and appropriate keywords that describe the image needs.\\n\"\n",
    "                \"Make the keywords in varied and specific based on user input.\\n\"\n",
    "                \"For example, if the input is 'cat', generate keywords like 'Black cat, White cat, Tabby cat, Siamese cat, Calico cat, Maine Coon, Bengal cat, Persian cat, Sphynx cat, Ragdoll cat, Tuxedo cat, Ginger cat, British Shorthair, Scottish Fold, Norwegian Forest Cat, Himalayan cat, Abyssinian cat, Russian Blue'.\\n\"\n",
    "                \"If the input is 'city landscape,' generate keywords such as:\\n\"\n",
    "                \"'night cityscape, skyscrapers, urban skyline, street view, historic district, modern architecture, parks, monuments, riverfront skyline, busy traffic, aerial cityscape, downtown buildings.'\\n\\n\"\n",
    "                \"Output should be in JSON format, structured as:\\n\"\n",
    "                \"If the input is 'medical image,' include keywords that specify types of medical imaging and body areas, such as:\\n\"\n",
    "                \"'CT scan, X-ray image, MRI, ultrasound, PET scan, chest X-ray, abdominal CT, brain MRI, bone density scan, radiology, thoracic CT, mammography, cardiac MRI, lung X-ray.'\\n\\n\"\n",
    "                \"The number of generated keywords should equal 'Num' and allow repetition.\\n\"\n",
    "                \"Only return the keywords, in the format like A,B,C,D \\n\"\n",
    "                \"Return ONLY the JSON, no additional text. Do not include the 'json' in the head of the result\"\n",
    "\n",
    "    }\n",
    "]\n",
    "\n",
    "\n",
    "completion = client.chat.completions.create(\n",
    "    model=MODEL_NAME,\n",
    "    messages=MESSAGES,\n",
    ")\n",
    "\n",
    "completion_json = json.loads(completion.model_dump_json())  # Deserialize the JSON string into a dictionary\n",
    "message_content = completion_json[\"choices\"][0][\"message\"][\"content\"]\n",
    "print(message_content)"
   ]
  },
  {
   "cell_type": "code",
   "execution_count": null,
   "id": "dfcbec51-e862-4037-bee7-e66e09a1ea90",
   "metadata": {
    "jupyter": {
     "outputs_hidden": false,
     "source_hidden": false
    },
    "microsoft": {
     "language": "python",
     "language_group": "synapse_pyspark"
    },
    "nteract": {
     "transient": {
      "deleting": false
     }
    }
   },
   "outputs": [
    {
     "data": {
      "application/vnd.livy.statement-meta+json": {
       "execution_finish_time": null,
       "execution_start_time": null,
       "livy_statement_state": null,
       "normalized_state": "waiting",
       "parent_msg_id": "c2d735d6-a57d-452b-b342-b331c4eafa7b",
       "queued_time": "2024-11-10T18:35:08.3986784Z",
       "session_id": null,
       "session_start_time": null,
       "spark_pool": null,
       "state": "waiting",
       "statement_id": null,
       "statement_ids": null
      },
      "text/plain": [
       "StatementMeta(, , , Waiting, , Waiting)"
      ]
     },
     "metadata": {},
     "output_type": "display_data"
    }
   ],
   "source": [
    "keyword = completion_json[\"choices\"][0][\"message\"][\"content\"]\n",
    "keyword = json.loads(keyword)"
   ]
  },
  {
   "cell_type": "code",
   "execution_count": null,
   "id": "1da16c41-9dac-40aa-b86b-cfc4d0f57095",
   "metadata": {
    "jupyter": {
     "outputs_hidden": false,
     "source_hidden": false
    },
    "microsoft": {
     "language": "python",
     "language_group": "synapse_pyspark"
    },
    "nteract": {
     "transient": {
      "deleting": false
     }
    }
   },
   "outputs": [
    {
     "data": {
      "application/vnd.livy.statement-meta+json": {
       "execution_finish_time": null,
       "execution_start_time": null,
       "livy_statement_state": null,
       "normalized_state": "waiting",
       "parent_msg_id": "984b2f86-79d7-4fac-9e04-97913bc170ca",
       "queued_time": "2024-11-10T18:35:08.3993533Z",
       "session_id": null,
       "session_start_time": null,
       "spark_pool": null,
       "state": "waiting",
       "statement_id": null,
       "statement_ids": null
      },
      "text/plain": [
       "StatementMeta(, , , Waiting, , Waiting)"
      ]
     },
     "metadata": {},
     "output_type": "display_data"
    }
   ],
   "source": [
    "# write the message_content to the keyword column in the task table\n",
    "original_keyword = keyword['Keywords']\n",
    "# write the original_keyword to the keyword column in the task table\n",
    "# get the taskID from the task_row\n",
    "taskID = task_row['taskID']\n",
    "spark.sql(\"UPDATE InFreGen.task SET keyword = '{}' WHERE taskID = {}\".format(original_keyword, taskID))"
   ]
  },
  {
   "cell_type": "code",
   "execution_count": null,
   "id": "23012956-5309-4d66-b932-40e35e722ba4",
   "metadata": {
    "collapsed": false,
    "jupyter": {
     "outputs_hidden": false,
     "source_hidden": false
    },
    "microsoft": {
     "language": "python",
     "language_group": "synapse_pyspark"
    },
    "nteract": {
     "transient": {
      "deleting": false
     }
    }
   },
   "outputs": [
    {
     "data": {
      "application/vnd.livy.statement-meta+json": {
       "execution_finish_time": null,
       "execution_start_time": null,
       "livy_statement_state": null,
       "normalized_state": "waiting",
       "parent_msg_id": "562712f1-bc00-4c1f-8119-8838ff58855b",
       "queued_time": "2024-11-10T18:35:08.4000252Z",
       "session_id": null,
       "session_start_time": null,
       "spark_pool": null,
       "state": "waiting",
       "statement_id": null,
       "statement_ids": null
      },
      "text/plain": [
       "StatementMeta(, , , Waiting, , Waiting)"
      ]
     },
     "metadata": {},
     "output_type": "display_data"
    }
   ],
   "source": [
    "df = spark.sql(\"SELECT * FROM InFreGen.task LIMIT 1000\")\n",
    "display(df)"
   ]
  }
 ],
 "metadata": {
  "dependencies": {
   "environment": {
    "environmentId": "6a40c65e-8b1b-44ff-959f-d29b25a5ac6d",
    "workspaceId": "a136438a-0d8b-4308-9f2f-c74ea9668405"
   },
   "lakehouse": {
    "default_lakehouse": "89188849-0b09-4102-bcab-2cfcf5509b4b",
    "default_lakehouse_name": "InFreGen",
    "default_lakehouse_workspace_id": "a136438a-0d8b-4308-9f2f-c74ea9668405"
   }
  },
  "kernel_info": {
   "name": "synapse_pyspark"
  },
  "kernelspec": {
   "display_name": "synapse_pyspark",
   "name": "synapse_pyspark"
  },
  "language_info": {
   "name": "python"
  },
  "microsoft": {
   "language": "python",
   "language_group": "synapse_pyspark",
   "ms_spell_check": {
    "ms_spell_check_language": "en"
   }
  },
  "nteract": {
   "version": "nteract-front-end@1.0.0"
  },
  "spark_compute": {
   "compute_id": "/trident/default",
   "session_options": {
    "conf": {
     "spark.synapse.nbs.session.timeout": "1200000"
    }
   }
  },
  "synapse_widget": {
   "state": {},
   "version": "0.1"
  },
  "widgets": {}
 },
 "nbformat": 4,
 "nbformat_minor": 5
}
